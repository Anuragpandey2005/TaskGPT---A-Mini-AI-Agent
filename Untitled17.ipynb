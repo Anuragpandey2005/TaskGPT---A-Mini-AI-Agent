{
  "nbformat": 4,
  "nbformat_minor": 0,
  "metadata": {
    "colab": {
      "private_outputs": true,
      "provenance": [],
      "authorship_tag": "ABX9TyOAn6cfk4ctz+CB0+auRxOE",
      "include_colab_link": true
    },
    "kernelspec": {
      "name": "python3",
      "display_name": "Python 3"
    },
    "language_info": {
      "name": "python"
    }
  },
  "cells": [
    {
      "cell_type": "markdown",
      "metadata": {
        "id": "view-in-github",
        "colab_type": "text"
      },
      "source": [
        "<a href=\"https://colab.research.google.com/github/Anuragpandey2005/TaskGPT---A-Mini-AI-Agent/blob/main/Untitled17.ipynb\" target=\"_parent\"><img src=\"https://colab.research.google.com/assets/colab-badge.svg\" alt=\"Open In Colab\"/></a>"
      ]
    },
    {
      "cell_type": "code",
      "execution_count": null,
      "metadata": {
        "id": "WDRV54fhqST_"
      },
      "outputs": [],
      "source": [
        "import openai\n",
        "import requests\n",
        "\n",
        "# Replace with your API keys\n",
        "openai.api_key = \"YOUR_OPENAI_API_KEY\"\n",
        "news_api_key = \"YOUR_NEWS_API_KEY\"  # Optional for news fetching\n",
        "\n",
        "def get_latest_ai_news():\n",
        "    \"\"\"Fetch top 3 latest AI-related news articles using NewsAPI.\"\"\"\n",
        "    url = (\n",
        "        f\"https://newsapi.org/v2/everything?q=artificial+intelligence\"\n",
        "        f\"&sortBy=publishedAt&pageSize=3&apiKey={news_api_key}\"\n",
        "    )\n",
        "    try:\n",
        "        response = requests.get(url).json()\n",
        "        articles = response.get(\"articles\", [])\n",
        "        if not articles:\n",
        "            return \"No news articles found.\"\n",
        "        return \"\\n\".join([f\"{i+1}. {a['title']}\" for i, a in enumerate(articles)])\n",
        "    except Exception as e:\n",
        "        return f\"Error fetching news: {e}\"\n",
        "\n",
        "def summarize_with_openai(text):\n",
        "    \"\"\"Summarize a given text using OpenAI's GPT model.\"\"\"\n",
        "    try:\n",
        "        response = openai.ChatCompletion.create(\n",
        "            model=\"gpt-3.5-turbo\",\n",
        "            messages=[\n",
        "                {\"role\": \"user\", \"content\": f\"Summarize this:\\n{text}\"}\n",
        "            ],\n",
        "            temperature=0.7,\n",
        "        )\n",
        "        return response['choices'][0]['message']['content'].strip()\n",
        "    except Exception as e:\n",
        "        return f\"Error summarizing text: {e}\"\n",
        "\n",
        "def task_agent(task):\n",
        "    \"\"\"Interpret the task and perform the required action.\"\"\"\n",
        "    task_lower = task.lower()\n",
        "\n",
        "    if \"news\" in task_lower:\n",
        "        news = get_latest_ai_news()\n",
        "        return summarize_with_openai(news)\n",
        "\n",
        "    elif \"summarize\" in task_lower:\n",
        "        # Example static text to summarize\n",
        "        sample_text = (\n",
        "            \"Artificial Intelligence is transforming how businesses operate by improving decision-making, \"\n",
        "            \"enhancing customer experiences, and automating tasks that traditionally required human input.\"\n",
        "        )\n",
        "        return summarize_with_openai(sample_text)\n",
        "\n",
        "    else:\n",
        "        return \"Task not recognized. Try asking for AI news or to summarize a text.\"\n",
        "\n",
        "if __name__ == \"__main__\":\n",
        "    user_input = input(\"Enter your task: \")\n",
        "    result = task_agent(user_input)\n",
        "    print(\"\\n--- Result ---\")\n",
        "    print(result)\n"
      ]
    }
  ]
}